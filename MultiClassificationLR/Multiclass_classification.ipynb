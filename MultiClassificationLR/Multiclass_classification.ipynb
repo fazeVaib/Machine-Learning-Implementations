{
 "cells": [
  {
   "cell_type": "markdown",
   "metadata": {},
   "source": [
    "##### Multiclass Classification using Logistic Regression\n",
    "Data : 5000 images containing digits (each image divided into 20 x 20 matrix representation)"
   ]
  },
  {
   "cell_type": "markdown",
   "metadata": {},
   "source": [
    "###### Importing Libraries "
   ]
  },
  {
   "cell_type": "code",
   "execution_count": 1,
   "metadata": {},
   "outputs": [],
   "source": [
    "import numpy as np\n",
    "import matplotlib.pyplot as plt\n",
    "import scipy.io as sp #for loading .mat file\n",
    "from scipy.optimize import minimize\n",
    "import pandas as pd\n",
    "%matplotlib inline"
   ]
  },
  {
   "cell_type": "markdown",
   "metadata": {},
   "source": [
    "###### Loading data from .mat file "
   ]
  },
  {
   "cell_type": "code",
   "execution_count": 2,
   "metadata": {},
   "outputs": [
    {
     "data": {
      "text/plain": [
       "{'X': array([[0., 0., 0., ..., 0., 0., 0.],\n",
       "        [0., 0., 0., ..., 0., 0., 0.],\n",
       "        [0., 0., 0., ..., 0., 0., 0.],\n",
       "        ...,\n",
       "        [0., 0., 0., ..., 0., 0., 0.],\n",
       "        [0., 0., 0., ..., 0., 0., 0.],\n",
       "        [0., 0., 0., ..., 0., 0., 0.]]),\n",
       " '__globals__': [],\n",
       " '__header__': b'MATLAB 5.0 MAT-file, Platform: GLNXA64, Created on: Sun Oct 16 13:09:09 2011',\n",
       " '__version__': '1.0',\n",
       " 'y': array([[10],\n",
       "        [10],\n",
       "        [10],\n",
       "        ...,\n",
       "        [ 9],\n",
       "        [ 9],\n",
       "        [ 9]], dtype=uint8)}"
      ]
     },
     "execution_count": 2,
     "metadata": {},
     "output_type": "execute_result"
    }
   ],
   "source": [
    "data = sp.loadmat(\"ex3data1.mat\")\n",
    "data"
   ]
  },
  {
   "cell_type": "markdown",
   "metadata": {},
   "source": [
    "###### Checking size of the required data "
   ]
  },
  {
   "cell_type": "code",
   "execution_count": 3,
   "metadata": {},
   "outputs": [
    {
     "data": {
      "text/plain": [
       "((5000, 400), (5000, 1))"
      ]
     },
     "execution_count": 3,
     "metadata": {},
     "output_type": "execute_result"
    }
   ],
   "source": [
    "data['X'].shape, data['y'].shape"
   ]
  },
  {
   "cell_type": "markdown",
   "metadata": {},
   "source": [
    "###### Defining sigmoid and Cost functions "
   ]
  },
  {
   "cell_type": "code",
   "execution_count": 4,
   "metadata": {},
   "outputs": [],
   "source": [
    "def sigmoid(z):\n",
    "    return 1/(1 + np.exp(-z))\n",
    "\n",
    "\n",
    "def cost(theta, x, y, rate):\n",
    "    theta = np.matrix(theta)\n",
    "    x = np.matrix(x)\n",
    "    y = np.matrix(y)\n",
    "    a = np.multiply(y, np.log(sigmoid(x * theta.T)))\n",
    "    b = np.multiply((1-y), np.log(1 - sigmoid(x * theta.T)))\n",
    "    reg = (rate/(2*len(x))) * np.sum(np.power(theta[:,1:theta.shape[1]], 2))\n",
    "    return np.sum(-(a+b))/len(x) + reg"
   ]
  },
  {
   "cell_type": "markdown",
   "metadata": {},
   "source": [
    "###### Defining gradient with regularization"
   ]
  },
  {
   "cell_type": "code",
   "execution_count": 5,
   "metadata": {},
   "outputs": [],
   "source": [
    "def gradient(theta, x, y, rate):\n",
    "    theta = np.matrix(theta)\n",
    "    x = np.matrix(x)\n",
    "    y = np.matrix(y)\n",
    "    \n",
    "    n = int(theta.ravel().shape[1])\n",
    "    e = sigmoid(x * theta.T) - y\n",
    "    \n",
    "    grad = ((x.T * e)/len(x)).T + (rate/len(x))*theta\n",
    "    \n",
    "    # since first grad shouldn't be regularized\n",
    "    grad[0,0] = np.sum(np.multiply(e, x[:,0]))/len(x)\n",
    "    \n",
    "    return np.array(grad).ravel() #flatten the value of gradients"
   ]
  },
  {
   "cell_type": "markdown",
   "metadata": {},
   "source": [
    "###### Defining the one-vs-All method along with optimization  "
   ]
  },
  {
   "cell_type": "code",
   "execution_count": 6,
   "metadata": {},
   "outputs": [],
   "source": [
    "def onevsall(x, y, num, rate):\n",
    "    m = x.shape[0] # number of rows\n",
    "    n = x.shape[1] # number of columns (parameters) \n",
    "    \n",
    "    totalTheta = np.zeros((num, n+1)) # Shape of Theta (+1 for the theta[0]) \n",
    "    \n",
    "    x = np.insert(x, obj=0, values=np.ones(m), axis=1)\n",
    "    \n",
    "    # since in y taken from .mat file, labels are from 1-10, not from 0-9\n",
    "    for i in range(1, num+1):\n",
    "        print(\"Carrying out for label {}\".format(i))\n",
    "        theta = np.zeros(n+1)\n",
    "        newY = np.array([1 if label == i else 0 for label in y])\n",
    "        newY = np.reshape(newY,(m,1))\n",
    "        \n",
    "        # Minimizing the function; jac means jacobian(gradient) [if available] \n",
    "        fmin = minimize(fun=cost, x0=theta, args=(x, newY, rate), method='TNC', jac=gradient)\n",
    "        # fmin returns 3 values, first one, labelled 'x' are the optimized values \n",
    "        totalTheta[i-1,:] = fmin.x\n",
    "        # print(totalTheta.shape)\n",
    "        # print(newY)\n",
    "        \n",
    "    return totalTheta\n",
    "    \n",
    "    "
   ]
  },
  {
   "cell_type": "markdown",
   "metadata": {},
   "source": [
    "###### Getting value of theta for all test cases "
   ]
  },
  {
   "cell_type": "code",
   "execution_count": 7,
   "metadata": {},
   "outputs": [
    {
     "name": "stdout",
     "output_type": "stream",
     "text": [
      "[ 1  2  3  4  5  6  7  8  9 10]\n",
      "Carrying out for label 1\n",
      "Carrying out for label 2\n",
      "Carrying out for label 3\n",
      "Carrying out for label 4\n",
      "Carrying out for label 5\n",
      "Carrying out for label 6\n",
      "Carrying out for label 7\n",
      "Carrying out for label 8\n",
      "Carrying out for label 9\n",
      "Carrying out for label 10\n",
      "[[-3.07440547e+00  0.00000000e+00  0.00000000e+00 ...  6.82476252e-03\n",
      "   9.33758817e-11  0.00000000e+00]\n",
      " [-3.73227557e+00  0.00000000e+00  0.00000000e+00 ...  2.32763652e-02\n",
      "  -2.55277369e-03  0.00000000e+00]\n",
      " [-5.71196765e+00  0.00000000e+00  0.00000000e+00 ... -6.38573453e-05\n",
      "  -3.68653885e-07  0.00000000e+00]\n",
      " ...\n",
      " [-9.12654984e+00  0.00000000e+00  0.00000000e+00 ... -6.15416819e-04\n",
      "   6.94572108e-05  0.00000000e+00]\n",
      " [-5.62646195e+00  0.00000000e+00  0.00000000e+00 ... -1.12459040e-02\n",
      "   8.55763510e-04  0.00000000e+00]\n",
      " [-8.06203608e+00  0.00000000e+00  0.00000000e+00 ... -3.52728443e-05\n",
      "   9.65615150e-07  0.00000000e+00]]\n"
     ]
    }
   ],
   "source": [
    "print(np.unique(data['y']))\n",
    "\n",
    "totalTheta = onevsall(data['X'], data['y'], 10, 0.1)\n",
    "print(totalTheta)"
   ]
  },
  {
   "cell_type": "markdown",
   "metadata": {},
   "source": [
    "###### Defining the prediction function that predicts probabiltiy of every class for each input of test case "
   ]
  },
  {
   "cell_type": "code",
   "execution_count": 8,
   "metadata": {},
   "outputs": [],
   "source": [
    "def predictAll(x, Totaltheta):\n",
    "    m = x.shape[0]\n",
    "    n = x.shape[1]\n",
    "    num = Totaltheta.shape[0]\n",
    "\n",
    "    # Inserting ones to match shape\n",
    "    x = np.insert(x, 0, values=np.ones(m), axis=1)\n",
    "\n",
    "    # convert to matrices\n",
    "    x = np.matrix(x)\n",
    "    Totaltheta = np.matrix(Totaltheta)\n",
    "\n",
    "    # compute the class probability for each class on each training instance\n",
    "    h = sigmoid(x * Totaltheta.T)\n",
    "\n",
    "    # create array of the index with the maximum probability\n",
    "    maxProb = np.argmax(h, axis=1)\n",
    "\n",
    "    # since labelling start from 1, uptill 10\n",
    "    maxProb = maxProb + 1\n",
    "\n",
    "    return maxProb"
   ]
  },
  {
   "cell_type": "markdown",
   "metadata": {},
   "source": [
    "###### Calling prediction function and calculation the accuracy of the model "
   ]
  },
  {
   "cell_type": "code",
   "execution_count": 9,
   "metadata": {},
   "outputs": [
    {
     "name": "stdout",
     "output_type": "stream",
     "text": [
      "accuracy of model = 96.46000000000001%\n"
     ]
    }
   ],
   "source": [
    "predictedY = predictAll(data['X'], totalTheta)  \n",
    "correct = [1 if a == b else 0 for (a, b) in zip(predictedY, data['y'])]  \n",
    "acc = (sum(map(int, correct)) / float(len(correct)))  \n",
    "print('accuracy of model = {0}%'.format(acc * 100))\n"
   ]
  }
 ],
 "metadata": {
  "kernelspec": {
   "display_name": "Python 3",
   "language": "python",
   "name": "python3"
  },
  "language_info": {
   "codemirror_mode": {
    "name": "ipython",
    "version": 3
   },
   "file_extension": ".py",
   "mimetype": "text/x-python",
   "name": "python",
   "nbconvert_exporter": "python",
   "pygments_lexer": "ipython3",
   "version": "3.6.4"
  }
 },
 "nbformat": 4,
 "nbformat_minor": 2
}
